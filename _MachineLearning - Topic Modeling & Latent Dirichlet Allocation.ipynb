{
 "cells": [
  {
   "cell_type": "code",
   "execution_count": 43,
   "metadata": {},
   "outputs": [],
   "source": [
    "from nltk.corpus import stopwords\n",
    "import numpy as np \n",
    "import string"
   ]
  },
  {
   "cell_type": "code",
   "execution_count": 21,
   "metadata": {},
   "outputs": [],
   "source": [
    "corpus = open('/Users/ash/Downloads/pg1497.txt', 'r').readlines()"
   ]
  },
  {
   "cell_type": "code",
   "execution_count": 104,
   "metadata": {},
   "outputs": [
    {
     "name": "stdout",
     "output_type": "stream",
     "text": [
      "4751\n",
      "2878\n"
     ]
    }
   ],
   "source": [
    "def clean_word(text): \n",
    "    for word in stopwords.words('english'): \n",
    "        text = text.replace(' '+word+' ',' ')\n",
    "    puncs = ['-', ':', '.', ';', ',', '0', '1', '2', '3', '4', '5', '6', '7', '8', '9', '(', ')', '?', '[', ']', '!', '/', \"'\"]\n",
    "    for _ in puncs:\n",
    "        text = text.replace(_,'')\n",
    "    return text\n",
    "\n",
    "def make_paragraphs(text):\n",
    "    paragraphs = []\n",
    "    dumb = ''\n",
    "    for _ in range(len(text)): \n",
    "        if text[_] == '\\n':\n",
    "            paragraphs.append(dumb)\n",
    "            dumb = ''\n",
    "            continue\n",
    "        else: \n",
    "            dumb += text[_]\n",
    "            \n",
    "    for i in range(len(paragraphs)):\n",
    "        paragraphs[i] = paragraphs[i].replace('\\n', ' ').lower()\n",
    "        paragraphs[i] = clean_word(paragraphs[i])\n",
    "    \n",
    "    return paragraphs\n",
    "\n",
    "paragraphs = make_paragraphs(corpus)\n",
    "print(len(paragraphs))\n",
    "new_paragraphs = []\n",
    "for _ in range(len(paragraphs)): \n",
    "    if len(paragraphs[_]) > 30:\n",
    "        new_paragraphs.append(paragraphs[_])\n",
    "print(len(new_paragraphs))"
   ]
  },
  {
   "cell_type": "code",
   "execution_count": 105,
   "metadata": {},
   "outputs": [],
   "source": [
    "from sklearn.feature_extraction.text import CountVectorizer\n",
    "\n",
    "vectorizer = CountVectorizer(max_df=0.95, min_df=2,\n",
    "                                max_features=100,\n",
    "                                stop_words='english')\n",
    "vectors = vectorizer.fit_transform(new_paragraphs)"
   ]
  },
  {
   "cell_type": "code",
   "execution_count": 106,
   "metadata": {},
   "outputs": [
    {
     "data": {
      "text/plain": [
       "LatentDirichletAllocation(batch_size=128, doc_topic_prior=None,\n",
       "             evaluate_every=-1, learning_decay=0.7,\n",
       "             learning_method='batch', learning_offset=10.0,\n",
       "             max_doc_update_iter=100, max_iter=10, mean_change_tol=0.001,\n",
       "             n_components=15, n_jobs=None, n_topics=None, perp_tol=0.1,\n",
       "             random_state=25, topic_word_prior=None,\n",
       "             total_samples=1000000.0, verbose=0)"
      ]
     },
     "execution_count": 106,
     "metadata": {},
     "output_type": "execute_result"
    }
   ],
   "source": [
    "from sklearn.decomposition import LatentDirichletAllocation\n",
    "lda = LatentDirichletAllocation(n_components=15, max_iter=10,\n",
    "                                learning_method='batch',\n",
    "                                random_state=25)\n",
    "lda.fit(vectors)"
   ]
  },
  {
   "cell_type": "code",
   "execution_count": 107,
   "metadata": {},
   "outputs": [
    {
     "name": "stdout",
     "output_type": "stream",
     "text": [
      "Topic #0: soul true like far city body things youth evil principle\n",
      "Topic #1: state individual states better philosophy man like men greater education\n",
      "Topic #2: men gods god women let say like things best man\n",
      "Topic #3: state rulers guardians children citizens replied common city best way\n",
      "Topic #4: life great man human world men nature away good time\n",
      "Topic #5: mind say suppose light right body thought sort sense answer\n",
      "Topic #6: justice injustice unjust virtue socrates man say glaucon nature argument\n",
      "Topic #7: man shall let saying nature think say true answer make\n",
      "Topic #8: manner end argument words republic plato make laws socrates state\n",
      "Topic #9: art idea modern plato truth ideas greatest knowledge mind like\n",
      "Topic #10: said yes thing ought say sort able mean glaucon think\n",
      "Topic #11: plato number greek education use order form law natural common\n",
      "Topic #12: reason pleasure pleasures second come like true form truth principle\n",
      "Topic #13: good knowledge evil opinion mean like know truth man things\n",
      "Topic #14: old truth love socrates age spirit philosopher life time know\n",
      "\n"
     ]
    }
   ],
   "source": [
    "def print_top_words(model, feature_names, n_top_words):\n",
    "    for topic_idx, topic in enumerate(model.components_):\n",
    "        message = \"Topic #%d: \" % topic_idx\n",
    "        message += \" \".join([feature_names[i]\n",
    "                             for i in topic.argsort()[:-n_top_words - 1:-1]])\n",
    "        print(message)\n",
    "    print()\n",
    "\n",
    "\n",
    "names = vectorizer.get_feature_names()\n",
    "print_top_words(lda, names, 10)"
   ]
  },
  {
   "cell_type": "code",
   "execution_count": 10,
   "metadata": {},
   "outputs": [
    {
     "name": "stdout",
     "output_type": "stream",
     "text": [
      "[0.68681757 0.97639165 0.99565539 0.99707382 0.99744252 0.99755216\n",
      " 0.9984785  0.99910555 0.99982863 0.99995316]\n",
      "Counter({0.0: 6828, 1.0: 2931, 2.0: 196, 8.0: 12, 3.0: 11, 7.0: 8, 4.0: 5, 6.0: 5, 5.0: 2, 9.0: 1, 10.0: 1})\n"
     ]
    }
   ],
   "source": [
    "import numpy as np\n",
    "from collections import Counter\n",
    "\n",
    "stick_breaks = np.asarray([])\n",
    "\n",
    "\n",
    "def sample_stick_breaking_process(stick_breaks):\n",
    "    s = np.random.rand()\n",
    "    lst = np.where(s < stick_breaks)[0]\n",
    "    if lst.size:\n",
    "        return (stick_breaks, lst[0])\n",
    "    else:\n",
    "        # We have sampled a new category!\n",
    "        # Break the stick in a new place and update the array!\n",
    "        if stick_breaks.size == 0:\n",
    "            start = 0\n",
    "        else:\n",
    "            start = stick_breaks[-1]\n",
    "        width = 1.0 - start\n",
    "        pos = start + width * np.random.rand()\n",
    "        stick_breaks = np.append(stick_breaks, [pos])\n",
    "        return (stick_breaks, len(stick_breaks))\n",
    "\n",
    "\n",
    "N = 10000\n",
    "samples = np.zeros(N)\n",
    "for n in range(N):\n",
    "    (stick_breaks, samples[n]) = sample_stick_breaking_process(stick_breaks)\n",
    "\n",
    "print(stick_breaks)\n",
    "print(Counter(samples))"
   ]
  }
 ],
 "metadata": {
  "kernelspec": {
   "display_name": "Python 3",
   "language": "python",
   "name": "python3"
  },
  "language_info": {
   "codemirror_mode": {
    "name": "ipython",
    "version": 3
   },
   "file_extension": ".py",
   "mimetype": "text/x-python",
   "name": "python",
   "nbconvert_exporter": "python",
   "pygments_lexer": "ipython3",
   "version": "3.6.6"
  }
 },
 "nbformat": 4,
 "nbformat_minor": 2
}
