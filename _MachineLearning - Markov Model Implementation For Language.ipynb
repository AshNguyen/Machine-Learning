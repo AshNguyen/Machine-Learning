{
 "cells": [
  {
   "cell_type": "code",
   "execution_count": 146,
   "metadata": {},
   "outputs": [],
   "source": [
    "import numpy as np \n",
    "import matplotlib.pyplot as plt\n",
    "from scipy.stats import dirichlet, multinomial"
   ]
  },
  {
   "cell_type": "code",
   "execution_count": 147,
   "metadata": {},
   "outputs": [],
   "source": [
    "lang_A, lang_B, lang_C = [], [], [] \n",
    "for _ in range(30):\n",
    "    lang_A.append(str(np.loadtxt('/Users/ash/Downloads/symbol/language-training-langA-{}'.format(_), dtype=np.str)))\n",
    "    lang_B.append(str(np.loadtxt('/Users/ash/Downloads/symbol/language-training-langB-{}'.format(_), dtype=np.str)))\n",
    "    lang_C.append(str(np.loadtxt('/Users/ash/Downloads/symbol/language-training-langC-{}'.format(_), dtype=np.str)))\n",
    "\n",
    "lang_test = [] \n",
    "for _ in range(10):\n",
    "    lang_test.append(str(np.loadtxt('/Users/ash/Downloads/symbol/language-test-{}'.format(_), dtype=np.str)))"
   ]
  },
  {
   "cell_type": "code",
   "execution_count": 148,
   "metadata": {
    "scrolled": false
   },
   "outputs": [],
   "source": [
    "from scipy.special import comb\n",
    "vocabulary = ['A', 'o', 'e', 't', 'p', 'g', 'k']\n",
    "\n",
    "def count_transition(text, vocab=vocabulary):\n",
    "    counts = []\n",
    "    for i in range(len(vocab)):\n",
    "        count = np.zeros(6)\n",
    "        for _ in range(len(text)-1):\n",
    "            if text[_] == vocab[0] and text[_+1] == vocab[1]:\n",
    "                count[0] += 1\n",
    "            elif text[_] == vocab[0] and text[_+1] == vocab[2]:\n",
    "                count[1] += 1\n",
    "            elif text[_] == vocab[0] and text[_+1] == vocab[3]:\n",
    "                count[2] += 1\n",
    "            elif text[_] == vocab[0] and text[_+1] == vocab[4]:\n",
    "                count[3] += 1\n",
    "            elif text[_] == vocab[0] and text[_+1] == vocab[5]:\n",
    "                count[4] += 1\n",
    "            elif text[0] == vocab[0] and text[_+1] == vocab[6]:\n",
    "                count[5] += 1\n",
    "#         count += 0.0001\n",
    "        counts.append(count)\n",
    "        dumb = vocab.pop(0)\n",
    "        vocab.append(dumb)\n",
    "    return counts\n",
    "\n",
    "def train(lang):\n",
    "    results = count_transition(lang[0])\n",
    "    for _ in lang.pop(0):\n",
    "        dumb = count_transition(_)\n",
    "        results[0] += dumb[0]\n",
    "        results[1] += dumb[1]\n",
    "        results[2] += dumb[2]\n",
    "        results[3] += dumb[3]\n",
    "        results[4] += dumb[4]\n",
    "        results[5] += dumb[5]\n",
    "        results[6] += dumb[6]\n",
    "    for _ in results:\n",
    "        _ += 1.1 \n",
    "    return results\n"
   ]
  },
  {
   "cell_type": "code",
   "execution_count": 153,
   "metadata": {},
   "outputs": [],
   "source": [
    "def pos_pdf_prob(lang, test): \n",
    "    posterior_prob = 1\n",
    "    test_count = count_transition(test)\n",
    "    j = 0\n",
    "    for dumb in test_count: \n",
    "        dumb = dumb/sum(dumb)\n",
    "        test_count[j] = dumb\n",
    "        j+=1\n",
    "    i = 0\n",
    "    for _ in train(lang):\n",
    "        posterior_prob *= dirichlet(alpha=_).pdf(test_count[i])\n",
    "        i += 1 \n",
    "    \n",
    "    return posterior_prob\n",
    "\n",
    "def classify(test): \n",
    "    A = pos_pdf_prob(lang_A, test)\n",
    "#     B = pos_pdf_prob(lang_B, test)\n",
    "#     C = pos_pdf_prob(lang_C, test)\n",
    "#     print (A, B, C)\n",
    "    print(A)"
   ]
  },
  {
   "cell_type": "code",
   "execution_count": 154,
   "metadata": {},
   "outputs": [
    {
     "name": "stdout",
     "output_type": "stream",
     "text": [
      "0.0\n"
     ]
    }
   ],
   "source": [
    "classify(lang_test[0])"
   ]
  }
 ],
 "metadata": {
  "kernelspec": {
   "display_name": "Python 3",
   "language": "python",
   "name": "python3"
  },
  "language_info": {
   "codemirror_mode": {
    "name": "ipython",
    "version": 3
   },
   "file_extension": ".py",
   "mimetype": "text/x-python",
   "name": "python",
   "nbconvert_exporter": "python",
   "pygments_lexer": "ipython3",
   "version": "3.6.6"
  }
 },
 "nbformat": 4,
 "nbformat_minor": 2
}
