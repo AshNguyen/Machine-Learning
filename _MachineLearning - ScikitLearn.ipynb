{
 "cells": [
  {
   "cell_type": "code",
   "execution_count": 126,
   "metadata": {
    "collapsed": false
   },
   "outputs": [],
   "source": [
    "import pandas as pd\n",
    "import matplotlib.pyplot as plt \n",
    "\n",
    "train=pd.read_csv(\"/Users/ash/Downloads/train.csv\")"
   ]
  },
  {
   "cell_type": "code",
   "execution_count": 129,
   "metadata": {
    "collapsed": false
   },
   "outputs": [],
   "source": [
    "#Impute +Category Binarizer\n",
    "\n",
    "from sklearn.pipeline import Pipeline\n",
    "from sklearn.preprocessing import Imputer, LabelBinarizer, StandardScaler \n",
    "\n",
    "\n",
    "\n",
    "def preprocess(data):\n",
    "    num_cova=data.select_dtypes(exclude='object')\n",
    "    pipe_num=Pipeline([\n",
    "        ('imputer', Imputer(strategy='mean')),\n",
    "        ('fscaling',StandardScaler()),\n",
    "    ])\n",
    "    cleaned=pd.DataFrame(pipe_num.fit_transform(data[list(num_cova)]),columns=list(num_cova))\n",
    "    pd.DataFrame(cleaned,columns=list(num_cova))\n",
    "    cat=data.select_dtypes(include='object')\n",
    "    for i in range(len(list(cat))):\n",
    "        cat_cleaned=pd.get_dummies(data[list(cat)[i]])\n",
    "        cleaned=pd.concat((cleaned,cat_cleaned),axis=1)\n",
    "    return cleaned\n",
    "\n"
   ]
  },
  {
   "cell_type": "code",
   "execution_count": 2,
   "metadata": {
    "collapsed": false
   },
   "outputs": [],
   "source": [
    "from sklearn.datasets import fetch_mldata \n",
    "data=fetch_mldata('MNIST original')\n",
    "\n"
   ]
  },
  {
   "cell_type": "code",
   "execution_count": 3,
   "metadata": {
    "collapsed": false
   },
   "outputs": [],
   "source": [
    "X, y = data[\"data\"], data[\"target\"]\n",
    "\n",
    "X_train, X_test, y_train, y_test = X[:60000], X[60000:], y[:60000], y[60000:]\n",
    "\n",
    "\n"
   ]
  }
 ],
 "metadata": {
  "kernelspec": {
   "display_name": "Python 3",
   "language": "python",
   "name": "python3"
  },
  "language_info": {
   "codemirror_mode": {
    "name": "ipython",
    "version": 3
   },
   "file_extension": ".py",
   "mimetype": "text/x-python",
   "name": "python",
   "nbconvert_exporter": "python",
   "pygments_lexer": "ipython3",
   "version": "3.6.0"
  }
 },
 "nbformat": 4,
 "nbformat_minor": 2
}
