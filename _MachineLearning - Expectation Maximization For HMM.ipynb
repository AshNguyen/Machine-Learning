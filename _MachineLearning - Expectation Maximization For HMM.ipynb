{
 "cells": [
  {
   "cell_type": "code",
   "execution_count": 1,
   "metadata": {},
   "outputs": [],
   "source": [
    "import numpy as np \n",
    "import matplotlib.pyplot as plt "
   ]
  },
  {
   "cell_type": "code",
   "execution_count": 8,
   "metadata": {},
   "outputs": [],
   "source": [
    "vocabulary = ['A', 'o', 'e', 't', 'p', 'g', 'k']\n",
    "heard = str(np.loadtxt('/Users/ash/Downloads/speaker.txt', dtype=np.str))\n",
    "transition = 1/3 * np.ones(shape=(3,3))\n",
    "emission = 1/7 * np.ones(shape=(3,7))"
   ]
  },
  {
   "cell_type": "code",
   "execution_count": null,
   "metadata": {},
   "outputs": [],
   "source": [
    "def M_step(alpha, beta, gamma, data, vocab=vocabulary): \n",
    "    T = np.zeros(shape=(3,3))\n",
    "    E = np.zeros(shape=(3,7))\n",
    "    pairwise = pairwise_marg(alpha, beta)\n",
    "    \n",
    "    for i in range(T.shape[0]):\n",
    "        for j in range(T.shape[1]):\n",
    "            T[i,j] = np.sum(pairwise, axis=2)\n",
    "        T[i,:] = T[i,:]/np.sum(T[i,:])\n",
    "        \n",
    "    for i in range(E.shape[0]):\n",
    "        for j in range(E.shape[1]): \n",
    "            dumb = [data[_] == vocab[j] for _ in range(len(data))]\n",
    "            E[i,j] = dumb*gamma[i]\n",
    "        E[i,:] = E[i,:]/np.sum(E[i,:])\n",
    "    \n",
    "    return T, E\n",
    "                \n",
    "    \n",
    "def E_step(T, E, data, vocab=vocabulary):\n",
    "    #forward pass \n",
    "    alpha = np.zeros(shape=(3,len(data)))\n",
    "    beta = np.zeros(shape=(3,len(data)))\n",
    "    \n",
    "    alpha[:, 0] = 1/3\n",
    "    for i in range(alpha.shape[0]):\n",
    "        for j in range(1, alpha.shape[1]):\n",
    "            alpha[i,j] = E[i,j] * np.sum(T[i,:]*alpha[i,j-1])\n",
    "        alpha[i,:] = alpha[i,:]/np.sum(alpha[i,:])\n",
    "        \n",
    "    beta[:, -1] = 1/3\n",
    "    for i in range(beta.shape[0]):\n",
    "        for j in range(beta.shape[1]-1, 0, -1):\n",
    "            beta[i,j-1] = np.sum(E[i,:]*beta[i,j]*T[i,:])\n",
    "        beta[i,:] = beta[i,:]/np.sum(beta[i,:])\n",
    "    \n",
    "    gamma = np.multiply(alpha, beta)\n",
    "    for _ in range(gamma.shape[0]):\n",
    "        gamma[_,:] = gamma[_,:]/np.sum(gamma[_,:])\n",
    "        \n",
    "    return alpha, beta, gamma\n",
    "\n",
    "for k in range(10):\n",
    "    alpha, beta, gamma = E_step(transition, emission, heard)\n",
    "    transition, emission = M_step(alpha, beta, gamma, heard)"
   ]
  }
 ],
 "metadata": {
  "kernelspec": {
   "display_name": "Python 3",
   "language": "python",
   "name": "python3"
  },
  "language_info": {
   "codemirror_mode": {
    "name": "ipython",
    "version": 3
   },
   "file_extension": ".py",
   "mimetype": "text/x-python",
   "name": "python",
   "nbconvert_exporter": "python",
   "pygments_lexer": "ipython3",
   "version": "3.6.6"
  }
 },
 "nbformat": 4,
 "nbformat_minor": 2
}
