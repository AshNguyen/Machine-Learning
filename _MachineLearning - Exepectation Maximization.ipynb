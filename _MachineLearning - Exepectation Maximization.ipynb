{
 "cells": [
  {
   "cell_type": "code",
   "execution_count": 2,
   "metadata": {
    "collapsed": true
   },
   "outputs": [],
   "source": [
    "import numpy as np\n",
    "from scipy.stats import binom\n",
    "import math\n",
    "\n",
    "data = np.array(([14, 33, 19, 10, 0, 17, 24, 17, 1, 36, 5, 6, 5, 13, 4, 35, 5, 5, 74, 34],\n",
    "                 [41, 43, 23, 23, 1, 23, 36, 37, 2, 131, 5, 29, 13, 47, 10, 58, 15, 14, 100, 113]))    \n",
    "data_ex = np.array(([5,9,8,4,7],[10,10,10,10,10]))"
   ]
  },
  {
   "cell_type": "code",
   "execution_count": 5,
   "metadata": {},
   "outputs": [
    {
     "name": "stdout",
     "output_type": "stream",
     "text": [
      "EM converged in 8 step\n",
      "Solution: [0.71253079 0.31411438]\n"
     ]
    }
   ],
   "source": [
    "def EM_1time(inits, data): \n",
    "    #E-step: calculate the expected probability for the latent variable assigning mechanism for each datapoint\n",
    "    p_As, p_Bs = [], []\n",
    "    for _ in range(data.shape[1]):\n",
    "        p_A = binom.pmf(data[0,_],data[1,_],inits[0])/(binom.pmf(data[0,_],data[1,_],inits[0])\n",
    "                                                      +binom.pmf(data[0,_],data[1,_],inits[1]))\n",
    "        p_B = 1 - p_A\n",
    "        p_As.append(p_A)\n",
    "        p_Bs.append(p_B)\n",
    "    #M-step: MLE for inits under the calculated expected probability of the latent variable\n",
    "    p_As, p_Bs = np.array(p_As), np.array(p_Bs)\n",
    "    updates = []\n",
    "    updates.append(np.sum(p_As*data[0,:])/np.sum(p_As*data[1,:]))\n",
    "    updates.append(np.sum(p_Bs*data[0,:])/np.sum(p_Bs*data[1,:]))\n",
    "    return np.array(updates)\n",
    "\n",
    "\n",
    "\n",
    "count = 0\n",
    "inits = np.array([0.2 ,0.1])\n",
    "tol_A, tol_B = 10, 10\n",
    "while tol_A > 0.00001 or tol_B > 0.00001:\n",
    "    updates = EM_1time(inits,data)\n",
    "    tol_A, tol_B = math.fabs(updates[0]-inits[0]), math.fabs(updates[1]-inits[1])\n",
    "    inits = updates\n",
    "    count += 1\n",
    "    \n",
    "print('EM converged in %s step' %count)\n",
    "print('Solution:', inits)"
   ]
  },
  {
   "cell_type": "code",
   "execution_count": 2,
   "metadata": {},
   "outputs": [
    {
     "name": "stdout",
     "output_type": "stream",
     "text": [
      "Solving environment: done\n",
      "\n",
      "\n",
      "==> WARNING: A newer version of conda exists. <==\n",
      "  current version: 4.4.11\n",
      "  latest version: 4.5.11\n",
      "\n",
      "Please update conda by running\n",
      "\n",
      "    $ conda update -n base conda\n",
      "\n",
      "\n",
      "\n",
      "## Package Plan ##\n",
      "\n",
      "  environment location: /anaconda\n",
      "\n",
      "  added / updated specs: \n",
      "    - pystan\n",
      "\n",
      "\n",
      "The following packages will be downloaded:\n",
      "\n",
      "    package                    |            build\n",
      "    ---------------------------|-----------------\n",
      "    clang_osx-64-4.0.1         |      h1ce6c1d_11           7 KB\n",
      "    clang-4.0.1                |       h662ec87_0        73.7 MB\n",
      "    cctools-895                |       h7512d6f_0         1.5 MB\n",
      "    clangxx-4.0.1              |       hc9b4283_0          10 KB\n",
      "    clangxx_osx-64-4.0.1       |      h22b1bf0_11           7 KB\n",
      "    pystan-2.18.0.0            |   py36h6440ff4_0        18.2 MB\n",
      "    llvm-4.0.1                 |       hc748206_0       136.7 MB\n",
      "    llvm-lto-tapi-4.0.1        |       h6701bc3_0        11.7 MB\n",
      "    compiler-rt-4.0.1          |       h5487866_0         963 KB\n",
      "    ld64-274.2                 |       h7c2db76_0         2.6 MB\n",
      "    ------------------------------------------------------------\n",
      "                                           Total:       245.4 MB\n",
      "\n",
      "The following NEW packages will be INSTALLED:\n",
      "\n",
      "    cctools:        895-h7512d6f_0         \n",
      "    clang:          4.0.1-h662ec87_0       \n",
      "    clang_osx-64:   4.0.1-h1ce6c1d_11      \n",
      "    clangxx:        4.0.1-hc9b4283_0       \n",
      "    clangxx_osx-64: 4.0.1-h22b1bf0_11      \n",
      "    compiler-rt:    4.0.1-h5487866_0       \n",
      "    ld64:           274.2-h7c2db76_0       \n",
      "    llvm:           4.0.1-hc748206_0       \n",
      "    llvm-lto-tapi:  4.0.1-h6701bc3_0       \n",
      "    pystan:         2.18.0.0-py36h6440ff4_0\n",
      "\n",
      "\n",
      "Downloading and Extracting Packages\n",
      "clang_osx-64 4.0.1: #################################################### | 100% \n",
      "clang 4.0.1: ########################################################### | 100% \n",
      "cctools 895: ########################################################### | 100% \n",
      "clangxx 4.0.1: ######################################################### | 100% \n",
      "clangxx_osx-64 4.0.1: ################################################## | 100% \n",
      "pystan 2.18.0.0: ####################################################### | 100% \n",
      "llvm 4.0.1: ############################################################ | 100% \n",
      "llvm-lto-tapi 4.0.1: ################################################### | 100% \n",
      "compiler-rt 4.0.1: ##################################################### | 100% \n",
      "ld64 274.2: ############################################################ | 100% \n",
      "Preparing transaction: done\n",
      "Verifying transaction: done\n",
      "Executing transaction: done\n"
     ]
    }
   ],
   "source": [
    "!conda install pystan --y"
   ]
  }
 ],
 "metadata": {
  "kernelspec": {
   "display_name": "Python 3",
   "language": "python",
   "name": "python3"
  },
  "language_info": {
   "codemirror_mode": {
    "name": "ipython",
    "version": 3
   },
   "file_extension": ".py",
   "mimetype": "text/x-python",
   "name": "python",
   "nbconvert_exporter": "python",
   "pygments_lexer": "ipython3",
   "version": "3.6.6"
  }
 },
 "nbformat": 4,
 "nbformat_minor": 2
}
